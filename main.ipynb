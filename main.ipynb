{
 "cells": [
  {
   "cell_type": "markdown",
   "source": [
    "# Welcome to ANDI!\n",
    "This notebook will guide you throughout our project! Let's start by setting up our environment"
   ],
   "metadata": {
    "collapsed": false,
    "pycharm": {
     "name": "#%% md\n"
    }
   }
  },
  {
   "cell_type": "code",
   "execution_count": null,
   "outputs": [],
   "source": [
    "#select your venv\n",
    "# ! source venv/bin/activate\n",
    "! ! pip install -r requirements.txt --find-links https://download.pytorch.org/whl/torch_stable.html"
   ],
   "metadata": {
    "collapsed": false,
    "pycharm": {
     "name": "#%%\n"
    }
   }
  },
  {
   "cell_type": "code",
   "execution_count": null,
   "outputs": [],
   "source": [
    "\n",
    "import gdown\n",
    "import shutil\n",
    "import os\n",
    "gdown.download(\"https://drive.google.com/uc?export=download&id=1tKAhkas5sCnIYurURylS63ZgBTdsrg_Q\",\"data/data_split2.zip\")\n",
    "gdown.download(\"https://drive.google.com/uc?export=download&id=1YXlG77XbMA0a4d12qcUSLa9sMp4rk6Nx\",\"data/unseen_data_test.zip\")\n",
    "\n",
    "shutil.unpack_archive(\"data/data_split2.zip\", \"data_split2\")\n",
    "shutil.unpack_archive(\"data/unseen_data_test.zip\",\"unseen_test_set\")\n",
    "os.remove(\"data/unseen_data_test.zip\")\n",
    "#lets keep data_split2.zip just in case..."
   ],
   "metadata": {
    "collapsed": false,
    "pycharm": {
     "name": "#%%\n"
    }
   }
  },
  {
   "cell_type": "markdown",
   "source": [
    "# This section is for training. If you already trained a model, you can skip ahead to the next section\n",
    "\n",
    "Training a model is easy! To see the available options :"
   ],
   "metadata": {
    "collapsed": false,
    "pycharm": {
     "name": "#%% md\n"
    }
   }
  },
  {
   "cell_type": "code",
   "execution_count": null,
   "outputs": [],
   "source": [
    "! python train.py -h"
   ],
   "metadata": {
    "collapsed": false,
    "pycharm": {
     "name": "#%%\n"
    }
   }
  },
  {
   "cell_type": "markdown",
   "source": [
    "Where the dataset corresponds to the different experiences as describe in our report.\n",
    "\n",
    "Let's try something simple!"
   ],
   "metadata": {
    "collapsed": false,
    "pycharm": {
     "name": "#%% md\n"
    }
   }
  },
  {
   "cell_type": "code",
   "execution_count": 1,
   "outputs": [
    {
     "name": "stdout",
     "output_type": "stream",
     "text": [
      "Traceback (most recent call last):\r\n",
      "  File \"/home/jonathan/PycharmProjects/IFT6759_Deep_learning/train.py\", line 137, in <module>\r\n",
      "    main()\r\n",
      "  File \"/home/jonathan/PycharmProjects/IFT6759_Deep_learning/train.py\", line 75, in main\r\n",
      "    train_dataset = CustomImageDataset(f\"data/data_split{version}/train\", transform=preprocess)\r\n",
      "  File \"/home/jonathan/PycharmProjects/IFT6759_Deep_learning/training/dataloaders/cct_dataloader.py\", line 28, in __init__\r\n",
      "    for file in os.listdir(img_dir+\"/images\") :\r\n",
      "FileNotFoundError: [Errno 2] No such file or directory: 'data/data_split2/train/images'\r\n"
     ]
    }
   ],
   "source": [
    "! python train.py --model alexnet --dataset 2"
   ],
   "metadata": {
    "collapsed": false,
    "pycharm": {
     "name": "#%%\n"
    }
   }
  },
  {
   "cell_type": "markdown",
   "source": [],
   "metadata": {
    "collapsed": false,
    "pycharm": {
     "name": "#%% md\n"
    }
   }
  },
  {
   "cell_type": "markdown",
   "source": [
    "# Now lets test our model!\n",
    "\n",
    "To see the usage of the detect function we do :"
   ],
   "metadata": {
    "collapsed": false,
    "pycharm": {
     "name": "#%% md\n"
    }
   }
  },
  {
   "cell_type": "code",
   "execution_count": null,
   "outputs": [],
   "source": [
    "! python detect.py -h"
   ],
   "metadata": {
    "collapsed": false,
    "pycharm": {
     "name": "#%%\n"
    }
   }
  },
  {
   "cell_type": "markdown",
   "source": [],
   "metadata": {
    "collapsed": false,
    "pycharm": {
     "name": "#%% md\n"
    }
   }
  },
  {
   "cell_type": "markdown",
   "source": [
    "Now lets continue with our alexnet example (assuming you have done the training!)"
   ],
   "metadata": {
    "collapsed": false,
    "pycharm": {
     "name": "#%% md\n"
    }
   }
  },
  {
   "cell_type": "code",
   "execution_count": null,
   "outputs": [],
   "source": [
    "! python detect.py --model alexnet --dataset 2 --test set unseen"
   ],
   "metadata": {
    "collapsed": false,
    "pycharm": {
     "name": "#%%\n"
    }
   }
  }
 ],
 "metadata": {
  "kernelspec": {
   "display_name": "Python 3",
   "language": "python",
   "name": "python3"
  },
  "language_info": {
   "codemirror_mode": {
    "name": "ipython",
    "version": 2
   },
   "file_extension": ".py",
   "mimetype": "text/x-python",
   "name": "python",
   "nbconvert_exporter": "python",
   "pygments_lexer": "ipython2",
   "version": "2.7.6"
  }
 },
 "nbformat": 4,
 "nbformat_minor": 0
}