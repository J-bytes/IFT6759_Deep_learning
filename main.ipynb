{
 "cells": [
  {
   "cell_type": "markdown",
   "metadata": {
    "pycharm": {
     "name": "#%% md\n"
    }
   },
   "source": [
    "# Welcome to ANDI!\n",
    "This notebook will guide you throughout our project! Let's start by setting up our environment"
   ]
  },
  {
   "cell_type": "code",
   "execution_count": 1,
   "metadata": {
    "pycharm": {
     "name": "#%%\n"
    }
   },
   "outputs": [
    {
     "name": "stdout",
     "output_type": "stream",
     "text": [
      "Looking in links: https://download.pytorch.org/whl/torch_stable.html\r\n",
      "Requirement already satisfied: tensorboard in /home/jonathan/PycharmProjects/IFT6759_Deep_learning/venv/lib/python3.9/site-packages (from -r requirements.txt (line 1)) (2.8.0)\r\n",
      "Requirement already satisfied: imageio~=2.16.0 in /home/jonathan/PycharmProjects/IFT6759_Deep_learning/venv/lib/python3.9/site-packages (from -r requirements.txt (line 2)) (2.16.0)\r\n",
      "Requirement already satisfied: opencv-python~=4.5.5.62 in /home/jonathan/PycharmProjects/IFT6759_Deep_learning/venv/lib/python3.9/site-packages (from -r requirements.txt (line 3)) (4.5.5.62)\r\n",
      "Requirement already satisfied: numpy~=1.22.2 in /home/jonathan/PycharmProjects/IFT6759_Deep_learning/venv/lib/python3.9/site-packages (from -r requirements.txt (line 5)) (1.22.2)\r\n",
      "Requirement already satisfied: pandas~=1.4.1 in /home/jonathan/PycharmProjects/IFT6759_Deep_learning/venv/lib/python3.9/site-packages (from -r requirements.txt (line 6)) (1.4.1)\r\n",
      "Requirement already satisfied: tqdm~=4.63.0 in /home/jonathan/PycharmProjects/IFT6759_Deep_learning/venv/lib/python3.9/site-packages (from -r requirements.txt (line 7)) (4.63.0)\r\n",
      "Collecting argparse~=1.4.0\r\n",
      "  Using cached argparse-1.4.0-py2.py3-none-any.whl (23 kB)\r\n",
      "Requirement already satisfied: matplotlib~=3.5.1 in /home/jonathan/PycharmProjects/IFT6759_Deep_learning/venv/lib/python3.9/site-packages (from -r requirements.txt (line 16)) (3.5.1)\r\n",
      "Requirement already satisfied: scikit-learn~=1.0.2 in /home/jonathan/PycharmProjects/IFT6759_Deep_learning/venv/lib/python3.9/site-packages (from -r requirements.txt (line 17)) (1.0.2)\r\n",
      "Requirement already satisfied: Pillow~=9.0.1 in /home/jonathan/PycharmProjects/IFT6759_Deep_learning/venv/lib/python3.9/site-packages (from -r requirements.txt (line 18)) (9.0.1)\r\n",
      "Requirement already satisfied: PyYAML~=6.0 in /home/jonathan/PycharmProjects/IFT6759_Deep_learning/venv/lib/python3.9/site-packages (from -r requirements.txt (line 19)) (6.0)\r\n",
      "Requirement already satisfied: wandb~=0.12.11 in /home/jonathan/PycharmProjects/IFT6759_Deep_learning/venv/lib/python3.9/site-packages (from -r requirements.txt (line 20)) (0.12.11)\r\n",
      "Requirement already satisfied: utils~=1.0.1 in /home/jonathan/PycharmProjects/IFT6759_Deep_learning/venv/lib/python3.9/site-packages (from -r requirements.txt (line 21)) (1.0.1)\r\n",
      "Requirement already satisfied: seaborn~=0.11.2 in /home/jonathan/PycharmProjects/IFT6759_Deep_learning/venv/lib/python3.9/site-packages (from -r requirements.txt (line 22)) (0.11.2)\r\n",
      "Requirement already satisfied: requests~=2.27.1 in /home/jonathan/PycharmProjects/IFT6759_Deep_learning/venv/lib/python3.9/site-packages (from -r requirements.txt (line 24)) (2.27.1)\r\n",
      "Requirement already satisfied: thop~=0.0.31.post2005241907 in /home/jonathan/PycharmProjects/IFT6759_Deep_learning/venv/lib/python3.9/site-packages (from -r requirements.txt (line 25)) (0.0.31.post2005241907)\r\n",
      "Requirement already satisfied: pycocotools~=2.0.4 in /home/jonathan/PycharmProjects/IFT6759_Deep_learning/venv/lib/python3.9/site-packages (from -r requirements.txt (line 27)) (2.0.4)\r\n",
      "Requirement already satisfied: plotly~=5.6.0 in /home/jonathan/PycharmProjects/IFT6759_Deep_learning/venv/lib/python3.9/site-packages (from -r requirements.txt (line 28)) (5.6.0)\r\n",
      "Requirement already satisfied: torch==1.10.2+cu113 in /home/jonathan/PycharmProjects/IFT6759_Deep_learning/venv/lib/python3.9/site-packages (from -r requirements.txt (line 29)) (1.10.2+cu113)\r\n",
      "Requirement already satisfied: torchvision==0.11.3+cu113 in /home/jonathan/PycharmProjects/IFT6759_Deep_learning/venv/lib/python3.9/site-packages (from -r requirements.txt (line 30)) (0.11.3+cu113)\r\n",
      "Requirement already satisfied: tensorflow~=2.8.0 in /home/jonathan/PycharmProjects/IFT6759_Deep_learning/venv/lib/python3.9/site-packages (from -r requirements.txt (line 31)) (2.8.0)\r\n",
      "Requirement already satisfied: gdown~=4.4.0 in /home/jonathan/PycharmProjects/IFT6759_Deep_learning/venv/lib/python3.9/site-packages (from -r requirements.txt (line 32)) (4.4.0)\r\n",
      "Requirement already satisfied: typing-extensions in /home/jonathan/PycharmProjects/IFT6759_Deep_learning/venv/lib/python3.9/site-packages (from torch==1.10.2+cu113->-r requirements.txt (line 29)) (4.1.1)\r\n",
      "Requirement already satisfied: grpcio>=1.24.3 in /home/jonathan/PycharmProjects/IFT6759_Deep_learning/venv/lib/python3.9/site-packages (from tensorboard->-r requirements.txt (line 1)) (1.43.0)\r\n",
      "Requirement already satisfied: tensorboard-data-server<0.7.0,>=0.6.0 in /home/jonathan/PycharmProjects/IFT6759_Deep_learning/venv/lib/python3.9/site-packages (from tensorboard->-r requirements.txt (line 1)) (0.6.1)\r\n",
      "Requirement already satisfied: google-auth-oauthlib<0.5,>=0.4.1 in /home/jonathan/PycharmProjects/IFT6759_Deep_learning/venv/lib/python3.9/site-packages (from tensorboard->-r requirements.txt (line 1)) (0.4.6)\r\n",
      "Requirement already satisfied: wheel>=0.26 in /home/jonathan/PycharmProjects/IFT6759_Deep_learning/venv/lib/python3.9/site-packages (from tensorboard->-r requirements.txt (line 1)) (0.36.2)\r\n",
      "Requirement already satisfied: google-auth<3,>=1.6.3 in /home/jonathan/PycharmProjects/IFT6759_Deep_learning/venv/lib/python3.9/site-packages (from tensorboard->-r requirements.txt (line 1)) (2.6.0)\r\n",
      "Requirement already satisfied: protobuf>=3.6.0 in /home/jonathan/PycharmProjects/IFT6759_Deep_learning/venv/lib/python3.9/site-packages (from tensorboard->-r requirements.txt (line 1)) (3.19.4)\r\n",
      "Requirement already satisfied: setuptools>=41.0.0 in /home/jonathan/PycharmProjects/IFT6759_Deep_learning/venv/lib/python3.9/site-packages (from tensorboard->-r requirements.txt (line 1)) (57.0.0)\r\n",
      "Requirement already satisfied: werkzeug>=0.11.15 in /home/jonathan/PycharmProjects/IFT6759_Deep_learning/venv/lib/python3.9/site-packages (from tensorboard->-r requirements.txt (line 1)) (2.0.3)\r\n",
      "Requirement already satisfied: tensorboard-plugin-wit>=1.6.0 in /home/jonathan/PycharmProjects/IFT6759_Deep_learning/venv/lib/python3.9/site-packages (from tensorboard->-r requirements.txt (line 1)) (1.8.1)\r\n",
      "Requirement already satisfied: absl-py>=0.4 in /home/jonathan/PycharmProjects/IFT6759_Deep_learning/venv/lib/python3.9/site-packages (from tensorboard->-r requirements.txt (line 1)) (1.0.0)\r\n",
      "Requirement already satisfied: markdown>=2.6.8 in /home/jonathan/PycharmProjects/IFT6759_Deep_learning/venv/lib/python3.9/site-packages (from tensorboard->-r requirements.txt (line 1)) (3.3.6)\r\n",
      "Requirement already satisfied: pytz>=2020.1 in /home/jonathan/PycharmProjects/IFT6759_Deep_learning/venv/lib/python3.9/site-packages (from pandas~=1.4.1->-r requirements.txt (line 6)) (2021.3)\r\n",
      "Requirement already satisfied: python-dateutil>=2.8.1 in /home/jonathan/PycharmProjects/IFT6759_Deep_learning/venv/lib/python3.9/site-packages (from pandas~=1.4.1->-r requirements.txt (line 6)) (2.8.2)\r\n",
      "Requirement already satisfied: kiwisolver>=1.0.1 in /home/jonathan/PycharmProjects/IFT6759_Deep_learning/venv/lib/python3.9/site-packages (from matplotlib~=3.5.1->-r requirements.txt (line 16)) (1.4.0)\r\n",
      "Requirement already satisfied: cycler>=0.10 in /home/jonathan/PycharmProjects/IFT6759_Deep_learning/venv/lib/python3.9/site-packages (from matplotlib~=3.5.1->-r requirements.txt (line 16)) (0.11.0)\r\n",
      "Requirement already satisfied: fonttools>=4.22.0 in /home/jonathan/PycharmProjects/IFT6759_Deep_learning/venv/lib/python3.9/site-packages (from matplotlib~=3.5.1->-r requirements.txt (line 16)) (4.30.0)\r\n",
      "Requirement already satisfied: packaging>=20.0 in /home/jonathan/PycharmProjects/IFT6759_Deep_learning/venv/lib/python3.9/site-packages (from matplotlib~=3.5.1->-r requirements.txt (line 16)) (21.3)\r\n",
      "Requirement already satisfied: pyparsing>=2.2.1 in /home/jonathan/PycharmProjects/IFT6759_Deep_learning/venv/lib/python3.9/site-packages (from matplotlib~=3.5.1->-r requirements.txt (line 16)) (3.0.7)\r\n",
      "Requirement already satisfied: threadpoolctl>=2.0.0 in /home/jonathan/PycharmProjects/IFT6759_Deep_learning/venv/lib/python3.9/site-packages (from scikit-learn~=1.0.2->-r requirements.txt (line 17)) (3.1.0)\r\n",
      "Requirement already satisfied: joblib>=0.11 in /home/jonathan/PycharmProjects/IFT6759_Deep_learning/venv/lib/python3.9/site-packages (from scikit-learn~=1.0.2->-r requirements.txt (line 17)) (1.1.0)\r\n",
      "Requirement already satisfied: scipy>=1.1.0 in /home/jonathan/PycharmProjects/IFT6759_Deep_learning/venv/lib/python3.9/site-packages (from scikit-learn~=1.0.2->-r requirements.txt (line 17)) (1.8.0)\r\n",
      "Requirement already satisfied: yaspin>=1.0.0 in /home/jonathan/PycharmProjects/IFT6759_Deep_learning/venv/lib/python3.9/site-packages (from wandb~=0.12.11->-r requirements.txt (line 20)) (2.1.0)\r\n",
      "Requirement already satisfied: promise<3,>=2.0 in /home/jonathan/PycharmProjects/IFT6759_Deep_learning/venv/lib/python3.9/site-packages (from wandb~=0.12.11->-r requirements.txt (line 20)) (2.3)\r\n",
      "Requirement already satisfied: sentry-sdk>=1.0.0 in /home/jonathan/PycharmProjects/IFT6759_Deep_learning/venv/lib/python3.9/site-packages (from wandb~=0.12.11->-r requirements.txt (line 20)) (1.5.7)\r\n",
      "Requirement already satisfied: Click!=8.0.0,>=7.0 in /home/jonathan/PycharmProjects/IFT6759_Deep_learning/venv/lib/python3.9/site-packages (from wandb~=0.12.11->-r requirements.txt (line 20)) (8.0.4)\r\n",
      "Requirement already satisfied: six>=1.13.0 in /home/jonathan/PycharmProjects/IFT6759_Deep_learning/venv/lib/python3.9/site-packages (from wandb~=0.12.11->-r requirements.txt (line 20)) (1.16.0)\r\n",
      "Requirement already satisfied: pathtools in /home/jonathan/PycharmProjects/IFT6759_Deep_learning/venv/lib/python3.9/site-packages (from wandb~=0.12.11->-r requirements.txt (line 20)) (0.1.2)\r\n",
      "Requirement already satisfied: docker-pycreds>=0.4.0 in /home/jonathan/PycharmProjects/IFT6759_Deep_learning/venv/lib/python3.9/site-packages (from wandb~=0.12.11->-r requirements.txt (line 20)) (0.4.0)\r\n",
      "Requirement already satisfied: psutil>=5.0.0 in /home/jonathan/PycharmProjects/IFT6759_Deep_learning/venv/lib/python3.9/site-packages (from wandb~=0.12.11->-r requirements.txt (line 20)) (5.9.0)\r\n",
      "Requirement already satisfied: GitPython>=1.0.0 in /home/jonathan/PycharmProjects/IFT6759_Deep_learning/venv/lib/python3.9/site-packages (from wandb~=0.12.11->-r requirements.txt (line 20)) (3.1.27)\r\n",
      "Requirement already satisfied: shortuuid>=0.5.0 in /home/jonathan/PycharmProjects/IFT6759_Deep_learning/venv/lib/python3.9/site-packages (from wandb~=0.12.11->-r requirements.txt (line 20)) (1.0.8)\r\n",
      "Requirement already satisfied: setproctitle in /home/jonathan/PycharmProjects/IFT6759_Deep_learning/venv/lib/python3.9/site-packages (from wandb~=0.12.11->-r requirements.txt (line 20)) (1.2.2)\r\n",
      "Requirement already satisfied: certifi>=2017.4.17 in /home/jonathan/PycharmProjects/IFT6759_Deep_learning/venv/lib/python3.9/site-packages (from requests~=2.27.1->-r requirements.txt (line 24)) (2021.10.8)\r\n",
      "Requirement already satisfied: urllib3<1.27,>=1.21.1 in /home/jonathan/PycharmProjects/IFT6759_Deep_learning/venv/lib/python3.9/site-packages (from requests~=2.27.1->-r requirements.txt (line 24)) (1.26.8)\r\n",
      "Requirement already satisfied: charset-normalizer~=2.0.0 in /home/jonathan/PycharmProjects/IFT6759_Deep_learning/venv/lib/python3.9/site-packages (from requests~=2.27.1->-r requirements.txt (line 24)) (2.0.12)\r\n",
      "Requirement already satisfied: idna<4,>=2.5 in /home/jonathan/PycharmProjects/IFT6759_Deep_learning/venv/lib/python3.9/site-packages (from requests~=2.27.1->-r requirements.txt (line 24)) (3.3)\r\n",
      "Requirement already satisfied: tenacity>=6.2.0 in /home/jonathan/PycharmProjects/IFT6759_Deep_learning/venv/lib/python3.9/site-packages (from plotly~=5.6.0->-r requirements.txt (line 28)) (8.0.1)\r\n",
      "Requirement already satisfied: opt-einsum>=2.3.2 in /home/jonathan/PycharmProjects/IFT6759_Deep_learning/venv/lib/python3.9/site-packages (from tensorflow~=2.8.0->-r requirements.txt (line 31)) (3.3.0)\r\n",
      "Requirement already satisfied: keras-preprocessing>=1.1.1 in /home/jonathan/PycharmProjects/IFT6759_Deep_learning/venv/lib/python3.9/site-packages (from tensorflow~=2.8.0->-r requirements.txt (line 31)) (1.1.2)\r\n",
      "Requirement already satisfied: google-pasta>=0.1.1 in /home/jonathan/PycharmProjects/IFT6759_Deep_learning/venv/lib/python3.9/site-packages (from tensorflow~=2.8.0->-r requirements.txt (line 31)) (0.2.0)\r\n",
      "Requirement already satisfied: tf-estimator-nightly==2.8.0.dev2021122109 in /home/jonathan/PycharmProjects/IFT6759_Deep_learning/venv/lib/python3.9/site-packages (from tensorflow~=2.8.0->-r requirements.txt (line 31)) (2.8.0.dev2021122109)\r\n",
      "Requirement already satisfied: wrapt>=1.11.0 in /home/jonathan/PycharmProjects/IFT6759_Deep_learning/venv/lib/python3.9/site-packages (from tensorflow~=2.8.0->-r requirements.txt (line 31)) (1.13.3)\r\n",
      "Requirement already satisfied: gast>=0.2.1 in /home/jonathan/PycharmProjects/IFT6759_Deep_learning/venv/lib/python3.9/site-packages (from tensorflow~=2.8.0->-r requirements.txt (line 31)) (0.5.3)\r\n",
      "Requirement already satisfied: termcolor>=1.1.0 in /home/jonathan/PycharmProjects/IFT6759_Deep_learning/venv/lib/python3.9/site-packages (from tensorflow~=2.8.0->-r requirements.txt (line 31)) (1.1.0)\r\n",
      "Requirement already satisfied: astunparse>=1.6.0 in /home/jonathan/PycharmProjects/IFT6759_Deep_learning/venv/lib/python3.9/site-packages (from tensorflow~=2.8.0->-r requirements.txt (line 31)) (1.6.3)\r\n",
      "Requirement already satisfied: keras<2.9,>=2.8.0rc0 in /home/jonathan/PycharmProjects/IFT6759_Deep_learning/venv/lib/python3.9/site-packages (from tensorflow~=2.8.0->-r requirements.txt (line 31)) (2.8.0)\r\n",
      "Requirement already satisfied: flatbuffers>=1.12 in /home/jonathan/PycharmProjects/IFT6759_Deep_learning/venv/lib/python3.9/site-packages (from tensorflow~=2.8.0->-r requirements.txt (line 31)) (2.0)\r\n",
      "Requirement already satisfied: libclang>=9.0.1 in /home/jonathan/PycharmProjects/IFT6759_Deep_learning/venv/lib/python3.9/site-packages (from tensorflow~=2.8.0->-r requirements.txt (line 31)) (13.0.0)\r\n",
      "Requirement already satisfied: tensorflow-io-gcs-filesystem>=0.23.1 in /home/jonathan/PycharmProjects/IFT6759_Deep_learning/venv/lib/python3.9/site-packages (from tensorflow~=2.8.0->-r requirements.txt (line 31)) (0.24.0)\r\n",
      "Requirement already satisfied: h5py>=2.9.0 in /home/jonathan/PycharmProjects/IFT6759_Deep_learning/venv/lib/python3.9/site-packages (from tensorflow~=2.8.0->-r requirements.txt (line 31)) (3.6.0)\r\n",
      "Requirement already satisfied: beautifulsoup4 in /home/jonathan/PycharmProjects/IFT6759_Deep_learning/venv/lib/python3.9/site-packages (from gdown~=4.4.0->-r requirements.txt (line 32)) (4.11.1)\r\n",
      "Requirement already satisfied: filelock in /home/jonathan/PycharmProjects/IFT6759_Deep_learning/venv/lib/python3.9/site-packages (from gdown~=4.4.0->-r requirements.txt (line 32)) (3.6.0)\r\n",
      "Requirement already satisfied: gitdb<5,>=4.0.1 in /home/jonathan/PycharmProjects/IFT6759_Deep_learning/venv/lib/python3.9/site-packages (from GitPython>=1.0.0->wandb~=0.12.11->-r requirements.txt (line 20)) (4.0.9)\r\n",
      "Requirement already satisfied: cachetools<6.0,>=2.0.0 in /home/jonathan/PycharmProjects/IFT6759_Deep_learning/venv/lib/python3.9/site-packages (from google-auth<3,>=1.6.3->tensorboard->-r requirements.txt (line 1)) (5.0.0)\r\n",
      "Requirement already satisfied: pyasn1-modules>=0.2.1 in /home/jonathan/PycharmProjects/IFT6759_Deep_learning/venv/lib/python3.9/site-packages (from google-auth<3,>=1.6.3->tensorboard->-r requirements.txt (line 1)) (0.2.8)\r\n",
      "Requirement already satisfied: rsa<5,>=3.1.4 in /home/jonathan/PycharmProjects/IFT6759_Deep_learning/venv/lib/python3.9/site-packages (from google-auth<3,>=1.6.3->tensorboard->-r requirements.txt (line 1)) (4.8)\r\n",
      "Requirement already satisfied: requests-oauthlib>=0.7.0 in /home/jonathan/PycharmProjects/IFT6759_Deep_learning/venv/lib/python3.9/site-packages (from google-auth-oauthlib<0.5,>=0.4.1->tensorboard->-r requirements.txt (line 1)) (1.3.1)\r\n",
      "Requirement already satisfied: importlib-metadata>=4.4 in /home/jonathan/PycharmProjects/IFT6759_Deep_learning/venv/lib/python3.9/site-packages (from markdown>=2.6.8->tensorboard->-r requirements.txt (line 1)) (4.11.1)\r\n",
      "Requirement already satisfied: soupsieve>1.2 in /home/jonathan/PycharmProjects/IFT6759_Deep_learning/venv/lib/python3.9/site-packages (from beautifulsoup4->gdown~=4.4.0->-r requirements.txt (line 32)) (2.3.2.post1)\r\n",
      "Requirement already satisfied: PySocks!=1.5.7,>=1.5.6 in /home/jonathan/PycharmProjects/IFT6759_Deep_learning/venv/lib/python3.9/site-packages (from requests~=2.27.1->-r requirements.txt (line 24)) (1.7.1)\r\n",
      "Requirement already satisfied: smmap<6,>=3.0.1 in /home/jonathan/PycharmProjects/IFT6759_Deep_learning/venv/lib/python3.9/site-packages (from gitdb<5,>=4.0.1->GitPython>=1.0.0->wandb~=0.12.11->-r requirements.txt (line 20)) (5.0.0)\r\n",
      "Requirement already satisfied: zipp>=0.5 in /home/jonathan/PycharmProjects/IFT6759_Deep_learning/venv/lib/python3.9/site-packages (from importlib-metadata>=4.4->markdown>=2.6.8->tensorboard->-r requirements.txt (line 1)) (3.7.0)\r\n",
      "Requirement already satisfied: pyasn1<0.5.0,>=0.4.6 in /home/jonathan/PycharmProjects/IFT6759_Deep_learning/venv/lib/python3.9/site-packages (from pyasn1-modules>=0.2.1->google-auth<3,>=1.6.3->tensorboard->-r requirements.txt (line 1)) (0.4.8)\r\n",
      "Requirement already satisfied: oauthlib>=3.0.0 in /home/jonathan/PycharmProjects/IFT6759_Deep_learning/venv/lib/python3.9/site-packages (from requests-oauthlib>=0.7.0->google-auth-oauthlib<0.5,>=0.4.1->tensorboard->-r requirements.txt (line 1)) (3.2.0)\r\n",
      "Installing collected packages: argparse\r\n",
      "Successfully installed argparse-1.4.0\r\n",
      "Note: you may need to restart the kernel to use updated packages.\n"
     ]
    }
   ],
   "source": [
    "%pip install -r requirements.txt --find-links https://download.pytorch.org/whl/torch_stable.html"
   ]
  },
  {
   "cell_type": "code",
   "execution_count": 2,
   "metadata": {
    "pycharm": {
     "name": "#%%\n"
    }
   },
   "outputs": [
    {
     "name": "stderr",
     "output_type": "stream",
     "text": [
      "Downloading...\n",
      "From: https://drive.google.com/uc?export=download&id=1YXlG77XbMA0a4d12qcUSLa9sMp4rk6Nx\n",
      "To: /mnt/77A80709148517D5/IFT6759_Deep_learning/data/unseen_data_test.zip\n",
      "100%|██████████| 24.4M/24.4M [00:01<00:00, 15.6MB/s]\n"
     ]
    },
    {
     "name": "stdout",
     "output_type": "stream",
     "text": [
      "0 txt file have been deleted.\n",
      "Data is ready for training!\n"
     ]
    }
   ],
   "source": [
    "\n",
    "import gdown\n",
    "import shutil\n",
    "import os\n",
    "from data.delete_empty import DeleteEmpty\n",
    "delete=DeleteEmpty()\n",
    "\n",
    "if not os.path.exists(\"data/data_split2\") :\n",
    "    gdown.download(\"https://drive.google.com/uc?export=download&id=1tKAhkas5sCnIYurURylS63ZgBTdsrg_Q\",\"data/data_split2.zip\")\n",
    "    shutil.unpack_archive(\"data/data_split2.zip\", \"data\")\n",
    "\n",
    "if not os.path.exists(\"data/unseen_data_test\") :\n",
    "    gdown.download(\"https://drive.google.com/uc?export=download&id=1YXlG77XbMA0a4d12qcUSLa9sMp4rk6Nx\",\"data/unseen_data_test.zip\")\n",
    "    shutil.unpack_archive(\"data/unseen_data_test.zip\",\"data\")\n",
    "\n",
    "\n",
    "os.remove(\"data/unseen_data_test.zip\")\n",
    "delete.delete()\n",
    "#lets keep data_split2.zip just in case...\n",
    "print(\"Data is ready for training!\")"
   ]
  },
  {
   "cell_type": "markdown",
   "metadata": {
    "pycharm": {
     "name": "#%% md\n"
    }
   },
   "source": [
    "# This section is for training. If you already trained a model, you can skip ahead to the next section\n",
    "\n",
    "Training a model is easy! To see the available options :"
   ]
  },
  {
   "cell_type": "code",
   "execution_count": 3,
   "metadata": {
    "pycharm": {
     "name": "#%%\n"
    }
   },
   "outputs": [
    {
     "name": "stdout",
     "output_type": "stream",
     "text": [
      "usage: run_train.py [-h] --model [{alexnet,resnext50_32x4d,vgg19,yolo}]\r\n",
      "                    --dataset [{1,2,3,4}] [--img_size [IMG_SIZE]]\r\n",
      "                    [--wandb | --no-wandb]\r\n",
      "\r\n",
      "Launch training for a specific model\r\n",
      "\r\n",
      "optional arguments:\r\n",
      "  -h, --help            show this help message and exit\r\n",
      "  --model [{alexnet,resnext50_32x4d,vgg19,yolo}]\r\n",
      "                        Choice of the model\r\n",
      "  --dataset [{1,2,3,4}]\r\n",
      "                        Version of the dataset\r\n",
      "  --img_size [IMG_SIZE]\r\n",
      "                        width and length to resize the images to. Choose a\r\n",
      "                        value between 320 and 608.\r\n",
      "  --wandb, --no-wandb   do you wish (and did you setup) wandb? You will need\r\n",
      "                        to add the project name in the initialization of wandb\r\n",
      "                        in train.py (default: False)\r\n"
     ]
    }
   ],
   "source": [
    "! python run_train.py -h"
   ]
  },
  {
   "cell_type": "markdown",
   "metadata": {
    "pycharm": {
     "name": "#%% md\n"
    }
   },
   "source": [
    "Where the dataset corresponds to the different experiences as describe in our report.\n",
    "\n",
    "Let's try something simple!"
   ]
  },
  {
   "cell_type": "code",
   "execution_count": 35,
   "metadata": {
    "pycharm": {
     "name": "#%%\n"
    }
   },
   "outputs": [
    {
     "name": "stdout",
     "output_type": "stream",
     "text": [
      "sh: 1: source: not found\r\n",
      "We need to change our dataset\r\n",
      "You need to download the dataset data split 2!             Please see the jupyter notebook or README.\r\n",
      "Traceback (most recent call last):\r\n",
      "  File \"/mnt/77A80709148517D5/IFT6759_Deep_learning/train.py\", line 137, in <module>\r\n",
      "    main()\r\n",
      "  File \"/mnt/77A80709148517D5/IFT6759_Deep_learning/train.py\", line 75, in main\r\n",
      "    train_dataset = CustomImageDataset(f\"data/data_split{version}/train\", transform=preprocess)\r\n",
      "  File \"/mnt/77A80709148517D5/IFT6759_Deep_learning/training/dataloaders/cct_dataloader.py\", line 28, in __init__\r\n",
      "    for file in os.listdir(img_dir+\"/images\") :\r\n",
      "FileNotFoundError: [Errno 2] No such file or directory: 'data/data_split4/train/images'\r\n"
     ]
    }
   ],
   "source": [
    "! python run_train.py --model alexnet --dataset 4 --no-wandb --epoch 1"
   ]
  },
  {
   "cell_type": "markdown",
   "metadata": {
    "pycharm": {
     "name": "#%% md\n"
    }
   },
   "source": []
  },
  {
   "cell_type": "markdown",
   "metadata": {
    "pycharm": {
     "name": "#%% md\n"
    }
   },
   "source": [
    "# Now lets test our model!\n",
    "\n",
    "To see the usage of the detect function we do :"
   ]
  },
  {
   "cell_type": "code",
   "execution_count": null,
   "metadata": {
    "pycharm": {
     "name": "#%%\n"
    }
   },
   "outputs": [],
   "source": [
    "! python detect.py -h"
   ]
  },
  {
   "cell_type": "markdown",
   "metadata": {
    "pycharm": {
     "name": "#%% md\n"
    }
   },
   "source": []
  },
  {
   "cell_type": "markdown",
   "metadata": {
    "pycharm": {
     "name": "#%% md\n"
    }
   },
   "source": [
    "Now lets continue with our alexnet example (assuming you have done the training!)"
   ]
  },
  {
   "cell_type": "code",
   "execution_count": 34,
   "metadata": {
    "pycharm": {
     "name": "#%%\n"
    }
   },
   "outputs": [
    {
     "name": "stdout",
     "output_type": "stream",
     "text": [
      "sh: 1: source: not found\r\n",
      "Using cache found in /home/jonathan/.cache/torch/hub/pytorch_vision_v0.10.0\r\n",
      "100%|███████████████████████████████████████████| 82/82 [00:01<00:00, 43.07it/s]\r\n",
      "time : 0.001462070921797617\r\n",
      "/home/jonathan/PycharmProjects/IFT6759_Deep_learning/venv/lib/python3.9/site-packages/sklearn/metrics/_classification.py:1318: UndefinedMetricWarning: Recall is ill-defined and being set to 0.0 in labels with no true samples. Use `zero_division` parameter to control this behavior.\r\n",
      "  _warn_prf(average, modifier, msg_start, len(result))\r\n",
      "2 (1303,) (1303,)\r\n",
      "f1 :  0.07121357365243629\r\n",
      "/home/jonathan/PycharmProjects/IFT6759_Deep_learning/venv/lib/python3.9/site-packages/sklearn/metrics/_classification.py:1318: UndefinedMetricWarning: Precision is ill-defined and being set to 0.0 in labels with no predicted samples. Use `zero_division` parameter to control this behavior.\r\n",
      "  _warn_prf(average, modifier, msg_start, len(result))\r\n",
      "precision :  0.10535834459149274\r\n",
      "recall :  0.1201277914712259\r\n",
      "top-1 0.13200306983883345\r\n",
      "avg class :  0.10533333333333333\r\n"
     ]
    }
   ],
   "source": [
    "! python run_detect.py --model alexnet --dataset 3 --testset unseen"
   ]
  },
  {
   "cell_type": "code",
   "execution_count": null,
   "metadata": {},
   "outputs": [],
   "source": []
  },
  {
   "cell_type": "raw",
   "source": [],
   "metadata": {
    "collapsed": false,
    "pycharm": {
     "name": "#%% raw\n"
    }
   }
  }
 ],
 "metadata": {
  "kernelspec": {
   "display_name": "Python 3 (ipykernel)",
   "language": "python",
   "name": "python3"
  },
  "language_info": {
   "codemirror_mode": {
    "name": "ipython",
    "version": 3
   },
   "file_extension": ".py",
   "mimetype": "text/x-python",
   "name": "python",
   "nbconvert_exporter": "python",
   "pygments_lexer": "ipython3",
   "version": "3.9.7"
  }
 },
 "nbformat": 4,
 "nbformat_minor": 1
}