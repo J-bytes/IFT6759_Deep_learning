{
 "cells": [
  {
   "cell_type": "markdown",
   "metadata": {
    "pycharm": {
     "name": "#%% md\n"
    }
   },
   "source": [
    "# Welcome to ANDI!\n",
    "This notebook will guide you throughout our project! Let's start by setting up our environment"
   ]
  },
  {
   "cell_type": "code",
   "execution_count": 1,
   "metadata": {
    "pycharm": {
     "name": "#%%\n"
    }
   },
   "outputs": [
    {
     "name": "stdout",
     "output_type": "stream",
     "text": [
      "Looking in links: https://download.pytorch.org/whl/torch_stable.html\r\n",
      "Requirement already satisfied: tensorboard in /home/jonathan/PycharmProjects/IFT6759_Deep_learning/venv/lib/python3.9/site-packages (from -r requirements.txt (line 1)) (2.8.0)\r\n",
      "Requirement already satisfied: imageio~=2.16.0 in /home/jonathan/PycharmProjects/IFT6759_Deep_learning/venv/lib/python3.9/site-packages (from -r requirements.txt (line 2)) (2.16.0)\r\n",
      "Requirement already satisfied: opencv-python~=4.5.5.62 in /home/jonathan/PycharmProjects/IFT6759_Deep_learning/venv/lib/python3.9/site-packages (from -r requirements.txt (line 3)) (4.5.5.62)\r\n",
      "Requirement already satisfied: numpy~=1.22.2 in /home/jonathan/PycharmProjects/IFT6759_Deep_learning/venv/lib/python3.9/site-packages (from -r requirements.txt (line 5)) (1.22.2)\r\n",
      "Requirement already satisfied: pandas~=1.4.1 in /home/jonathan/PycharmProjects/IFT6759_Deep_learning/venv/lib/python3.9/site-packages (from -r requirements.txt (line 6)) (1.4.1)\r\n",
      "Requirement already satisfied: tqdm~=4.63.0 in /home/jonathan/PycharmProjects/IFT6759_Deep_learning/venv/lib/python3.9/site-packages (from -r requirements.txt (line 7)) (4.63.0)\r\n",
      "Collecting argparse~=1.4.0\r\n",
      "  Using cached argparse-1.4.0-py2.py3-none-any.whl (23 kB)\r\n",
      "Requirement already satisfied: matplotlib~=3.5.1 in /home/jonathan/PycharmProjects/IFT6759_Deep_learning/venv/lib/python3.9/site-packages (from -r requirements.txt (line 16)) (3.5.1)\r\n",
      "Requirement already satisfied: scikit-learn~=1.0.2 in /home/jonathan/PycharmProjects/IFT6759_Deep_learning/venv/lib/python3.9/site-packages (from -r requirements.txt (line 17)) (1.0.2)\r\n",
      "Requirement already satisfied: Pillow~=9.0.1 in /home/jonathan/PycharmProjects/IFT6759_Deep_learning/venv/lib/python3.9/site-packages (from -r requirements.txt (line 18)) (9.0.1)\r\n",
      "Requirement already satisfied: PyYAML~=6.0 in /home/jonathan/PycharmProjects/IFT6759_Deep_learning/venv/lib/python3.9/site-packages (from -r requirements.txt (line 19)) (6.0)\r\n",
      "Requirement already satisfied: wandb~=0.12.11 in /home/jonathan/PycharmProjects/IFT6759_Deep_learning/venv/lib/python3.9/site-packages (from -r requirements.txt (line 20)) (0.12.11)\r\n",
      "Requirement already satisfied: utils~=1.0.1 in /home/jonathan/PycharmProjects/IFT6759_Deep_learning/venv/lib/python3.9/site-packages (from -r requirements.txt (line 21)) (1.0.1)\r\n",
      "Requirement already satisfied: seaborn~=0.11.2 in /home/jonathan/PycharmProjects/IFT6759_Deep_learning/venv/lib/python3.9/site-packages (from -r requirements.txt (line 22)) (0.11.2)\r\n",
      "Requirement already satisfied: requests~=2.27.1 in /home/jonathan/PycharmProjects/IFT6759_Deep_learning/venv/lib/python3.9/site-packages (from -r requirements.txt (line 24)) (2.27.1)\r\n",
      "Requirement already satisfied: thop~=0.0.31.post2005241907 in /home/jonathan/PycharmProjects/IFT6759_Deep_learning/venv/lib/python3.9/site-packages (from -r requirements.txt (line 25)) (0.0.31.post2005241907)\r\n",
      "Requirement already satisfied: pycocotools~=2.0.4 in /home/jonathan/PycharmProjects/IFT6759_Deep_learning/venv/lib/python3.9/site-packages (from -r requirements.txt (line 27)) (2.0.4)\r\n",
      "Requirement already satisfied: plotly~=5.6.0 in /home/jonathan/PycharmProjects/IFT6759_Deep_learning/venv/lib/python3.9/site-packages (from -r requirements.txt (line 28)) (5.6.0)\r\n",
      "Requirement already satisfied: torch==1.10.2+cu113 in /home/jonathan/PycharmProjects/IFT6759_Deep_learning/venv/lib/python3.9/site-packages (from -r requirements.txt (line 29)) (1.10.2+cu113)\r\n",
      "Requirement already satisfied: torchvision==0.11.3+cu113 in /home/jonathan/PycharmProjects/IFT6759_Deep_learning/venv/lib/python3.9/site-packages (from -r requirements.txt (line 30)) (0.11.3+cu113)\r\n",
      "Requirement already satisfied: tensorflow~=2.8.0 in /home/jonathan/PycharmProjects/IFT6759_Deep_learning/venv/lib/python3.9/site-packages (from -r requirements.txt (line 31)) (2.8.0)\r\n",
      "Requirement already satisfied: gdown~=4.4.0 in /home/jonathan/PycharmProjects/IFT6759_Deep_learning/venv/lib/python3.9/site-packages (from -r requirements.txt (line 32)) (4.4.0)\r\n",
      "Requirement already satisfied: typing-extensions in /home/jonathan/PycharmProjects/IFT6759_Deep_learning/venv/lib/python3.9/site-packages (from torch==1.10.2+cu113->-r requirements.txt (line 29)) (4.1.1)\r\n",
      "Requirement already satisfied: grpcio>=1.24.3 in /home/jonathan/PycharmProjects/IFT6759_Deep_learning/venv/lib/python3.9/site-packages (from tensorboard->-r requirements.txt (line 1)) (1.43.0)\r\n",
      "Requirement already satisfied: tensorboard-data-server<0.7.0,>=0.6.0 in /home/jonathan/PycharmProjects/IFT6759_Deep_learning/venv/lib/python3.9/site-packages (from tensorboard->-r requirements.txt (line 1)) (0.6.1)\r\n",
      "Requirement already satisfied: google-auth-oauthlib<0.5,>=0.4.1 in /home/jonathan/PycharmProjects/IFT6759_Deep_learning/venv/lib/python3.9/site-packages (from tensorboard->-r requirements.txt (line 1)) (0.4.6)\r\n",
      "Requirement already satisfied: wheel>=0.26 in /home/jonathan/PycharmProjects/IFT6759_Deep_learning/venv/lib/python3.9/site-packages (from tensorboard->-r requirements.txt (line 1)) (0.36.2)\r\n",
      "Requirement already satisfied: google-auth<3,>=1.6.3 in /home/jonathan/PycharmProjects/IFT6759_Deep_learning/venv/lib/python3.9/site-packages (from tensorboard->-r requirements.txt (line 1)) (2.6.0)\r\n",
      "Requirement already satisfied: protobuf>=3.6.0 in /home/jonathan/PycharmProjects/IFT6759_Deep_learning/venv/lib/python3.9/site-packages (from tensorboard->-r requirements.txt (line 1)) (3.19.4)\r\n",
      "Requirement already satisfied: setuptools>=41.0.0 in /home/jonathan/PycharmProjects/IFT6759_Deep_learning/venv/lib/python3.9/site-packages (from tensorboard->-r requirements.txt (line 1)) (57.0.0)\r\n",
      "Requirement already satisfied: werkzeug>=0.11.15 in /home/jonathan/PycharmProjects/IFT6759_Deep_learning/venv/lib/python3.9/site-packages (from tensorboard->-r requirements.txt (line 1)) (2.0.3)\r\n",
      "Requirement already satisfied: tensorboard-plugin-wit>=1.6.0 in /home/jonathan/PycharmProjects/IFT6759_Deep_learning/venv/lib/python3.9/site-packages (from tensorboard->-r requirements.txt (line 1)) (1.8.1)\r\n",
      "Requirement already satisfied: absl-py>=0.4 in /home/jonathan/PycharmProjects/IFT6759_Deep_learning/venv/lib/python3.9/site-packages (from tensorboard->-r requirements.txt (line 1)) (1.0.0)\r\n",
      "Requirement already satisfied: markdown>=2.6.8 in /home/jonathan/PycharmProjects/IFT6759_Deep_learning/venv/lib/python3.9/site-packages (from tensorboard->-r requirements.txt (line 1)) (3.3.6)\r\n",
      "Requirement already satisfied: pytz>=2020.1 in /home/jonathan/PycharmProjects/IFT6759_Deep_learning/venv/lib/python3.9/site-packages (from pandas~=1.4.1->-r requirements.txt (line 6)) (2021.3)\r\n",
      "Requirement already satisfied: python-dateutil>=2.8.1 in /home/jonathan/PycharmProjects/IFT6759_Deep_learning/venv/lib/python3.9/site-packages (from pandas~=1.4.1->-r requirements.txt (line 6)) (2.8.2)\r\n",
      "Requirement already satisfied: kiwisolver>=1.0.1 in /home/jonathan/PycharmProjects/IFT6759_Deep_learning/venv/lib/python3.9/site-packages (from matplotlib~=3.5.1->-r requirements.txt (line 16)) (1.4.0)\r\n",
      "Requirement already satisfied: cycler>=0.10 in /home/jonathan/PycharmProjects/IFT6759_Deep_learning/venv/lib/python3.9/site-packages (from matplotlib~=3.5.1->-r requirements.txt (line 16)) (0.11.0)\r\n",
      "Requirement already satisfied: fonttools>=4.22.0 in /home/jonathan/PycharmProjects/IFT6759_Deep_learning/venv/lib/python3.9/site-packages (from matplotlib~=3.5.1->-r requirements.txt (line 16)) (4.30.0)\r\n",
      "Requirement already satisfied: packaging>=20.0 in /home/jonathan/PycharmProjects/IFT6759_Deep_learning/venv/lib/python3.9/site-packages (from matplotlib~=3.5.1->-r requirements.txt (line 16)) (21.3)\r\n",
      "Requirement already satisfied: pyparsing>=2.2.1 in /home/jonathan/PycharmProjects/IFT6759_Deep_learning/venv/lib/python3.9/site-packages (from matplotlib~=3.5.1->-r requirements.txt (line 16)) (3.0.7)\r\n",
      "Requirement already satisfied: threadpoolctl>=2.0.0 in /home/jonathan/PycharmProjects/IFT6759_Deep_learning/venv/lib/python3.9/site-packages (from scikit-learn~=1.0.2->-r requirements.txt (line 17)) (3.1.0)\r\n",
      "Requirement already satisfied: joblib>=0.11 in /home/jonathan/PycharmProjects/IFT6759_Deep_learning/venv/lib/python3.9/site-packages (from scikit-learn~=1.0.2->-r requirements.txt (line 17)) (1.1.0)\r\n",
      "Requirement already satisfied: scipy>=1.1.0 in /home/jonathan/PycharmProjects/IFT6759_Deep_learning/venv/lib/python3.9/site-packages (from scikit-learn~=1.0.2->-r requirements.txt (line 17)) (1.8.0)\r\n",
      "Requirement already satisfied: yaspin>=1.0.0 in /home/jonathan/PycharmProjects/IFT6759_Deep_learning/venv/lib/python3.9/site-packages (from wandb~=0.12.11->-r requirements.txt (line 20)) (2.1.0)\r\n",
      "Requirement already satisfied: promise<3,>=2.0 in /home/jonathan/PycharmProjects/IFT6759_Deep_learning/venv/lib/python3.9/site-packages (from wandb~=0.12.11->-r requirements.txt (line 20)) (2.3)\r\n",
      "Requirement already satisfied: sentry-sdk>=1.0.0 in /home/jonathan/PycharmProjects/IFT6759_Deep_learning/venv/lib/python3.9/site-packages (from wandb~=0.12.11->-r requirements.txt (line 20)) (1.5.7)\r\n",
      "Requirement already satisfied: Click!=8.0.0,>=7.0 in /home/jonathan/PycharmProjects/IFT6759_Deep_learning/venv/lib/python3.9/site-packages (from wandb~=0.12.11->-r requirements.txt (line 20)) (8.0.4)\r\n",
      "Requirement already satisfied: six>=1.13.0 in /home/jonathan/PycharmProjects/IFT6759_Deep_learning/venv/lib/python3.9/site-packages (from wandb~=0.12.11->-r requirements.txt (line 20)) (1.16.0)\r\n",
      "Requirement already satisfied: pathtools in /home/jonathan/PycharmProjects/IFT6759_Deep_learning/venv/lib/python3.9/site-packages (from wandb~=0.12.11->-r requirements.txt (line 20)) (0.1.2)\r\n",
      "Requirement already satisfied: docker-pycreds>=0.4.0 in /home/jonathan/PycharmProjects/IFT6759_Deep_learning/venv/lib/python3.9/site-packages (from wandb~=0.12.11->-r requirements.txt (line 20)) (0.4.0)\r\n",
      "Requirement already satisfied: psutil>=5.0.0 in /home/jonathan/PycharmProjects/IFT6759_Deep_learning/venv/lib/python3.9/site-packages (from wandb~=0.12.11->-r requirements.txt (line 20)) (5.9.0)\r\n",
      "Requirement already satisfied: GitPython>=1.0.0 in /home/jonathan/PycharmProjects/IFT6759_Deep_learning/venv/lib/python3.9/site-packages (from wandb~=0.12.11->-r requirements.txt (line 20)) (3.1.27)\r\n",
      "Requirement already satisfied: shortuuid>=0.5.0 in /home/jonathan/PycharmProjects/IFT6759_Deep_learning/venv/lib/python3.9/site-packages (from wandb~=0.12.11->-r requirements.txt (line 20)) (1.0.8)\r\n",
      "Requirement already satisfied: setproctitle in /home/jonathan/PycharmProjects/IFT6759_Deep_learning/venv/lib/python3.9/site-packages (from wandb~=0.12.11->-r requirements.txt (line 20)) (1.2.2)\r\n",
      "Requirement already satisfied: certifi>=2017.4.17 in /home/jonathan/PycharmProjects/IFT6759_Deep_learning/venv/lib/python3.9/site-packages (from requests~=2.27.1->-r requirements.txt (line 24)) (2021.10.8)\r\n",
      "Requirement already satisfied: urllib3<1.27,>=1.21.1 in /home/jonathan/PycharmProjects/IFT6759_Deep_learning/venv/lib/python3.9/site-packages (from requests~=2.27.1->-r requirements.txt (line 24)) (1.26.8)\r\n",
      "Requirement already satisfied: charset-normalizer~=2.0.0 in /home/jonathan/PycharmProjects/IFT6759_Deep_learning/venv/lib/python3.9/site-packages (from requests~=2.27.1->-r requirements.txt (line 24)) (2.0.12)\r\n",
      "Requirement already satisfied: idna<4,>=2.5 in /home/jonathan/PycharmProjects/IFT6759_Deep_learning/venv/lib/python3.9/site-packages (from requests~=2.27.1->-r requirements.txt (line 24)) (3.3)\r\n",
      "Requirement already satisfied: tenacity>=6.2.0 in /home/jonathan/PycharmProjects/IFT6759_Deep_learning/venv/lib/python3.9/site-packages (from plotly~=5.6.0->-r requirements.txt (line 28)) (8.0.1)\r\n",
      "Requirement already satisfied: opt-einsum>=2.3.2 in /home/jonathan/PycharmProjects/IFT6759_Deep_learning/venv/lib/python3.9/site-packages (from tensorflow~=2.8.0->-r requirements.txt (line 31)) (3.3.0)\r\n",
      "Requirement already satisfied: keras-preprocessing>=1.1.1 in /home/jonathan/PycharmProjects/IFT6759_Deep_learning/venv/lib/python3.9/site-packages (from tensorflow~=2.8.0->-r requirements.txt (line 31)) (1.1.2)\r\n",
      "Requirement already satisfied: google-pasta>=0.1.1 in /home/jonathan/PycharmProjects/IFT6759_Deep_learning/venv/lib/python3.9/site-packages (from tensorflow~=2.8.0->-r requirements.txt (line 31)) (0.2.0)\r\n",
      "Requirement already satisfied: tf-estimator-nightly==2.8.0.dev2021122109 in /home/jonathan/PycharmProjects/IFT6759_Deep_learning/venv/lib/python3.9/site-packages (from tensorflow~=2.8.0->-r requirements.txt (line 31)) (2.8.0.dev2021122109)\r\n",
      "Requirement already satisfied: wrapt>=1.11.0 in /home/jonathan/PycharmProjects/IFT6759_Deep_learning/venv/lib/python3.9/site-packages (from tensorflow~=2.8.0->-r requirements.txt (line 31)) (1.13.3)\r\n",
      "Requirement already satisfied: gast>=0.2.1 in /home/jonathan/PycharmProjects/IFT6759_Deep_learning/venv/lib/python3.9/site-packages (from tensorflow~=2.8.0->-r requirements.txt (line 31)) (0.5.3)\r\n",
      "Requirement already satisfied: termcolor>=1.1.0 in /home/jonathan/PycharmProjects/IFT6759_Deep_learning/venv/lib/python3.9/site-packages (from tensorflow~=2.8.0->-r requirements.txt (line 31)) (1.1.0)\r\n",
      "Requirement already satisfied: astunparse>=1.6.0 in /home/jonathan/PycharmProjects/IFT6759_Deep_learning/venv/lib/python3.9/site-packages (from tensorflow~=2.8.0->-r requirements.txt (line 31)) (1.6.3)\r\n",
      "Requirement already satisfied: keras<2.9,>=2.8.0rc0 in /home/jonathan/PycharmProjects/IFT6759_Deep_learning/venv/lib/python3.9/site-packages (from tensorflow~=2.8.0->-r requirements.txt (line 31)) (2.8.0)\r\n",
      "Requirement already satisfied: flatbuffers>=1.12 in /home/jonathan/PycharmProjects/IFT6759_Deep_learning/venv/lib/python3.9/site-packages (from tensorflow~=2.8.0->-r requirements.txt (line 31)) (2.0)\r\n",
      "Requirement already satisfied: libclang>=9.0.1 in /home/jonathan/PycharmProjects/IFT6759_Deep_learning/venv/lib/python3.9/site-packages (from tensorflow~=2.8.0->-r requirements.txt (line 31)) (13.0.0)\r\n",
      "Requirement already satisfied: tensorflow-io-gcs-filesystem>=0.23.1 in /home/jonathan/PycharmProjects/IFT6759_Deep_learning/venv/lib/python3.9/site-packages (from tensorflow~=2.8.0->-r requirements.txt (line 31)) (0.24.0)\r\n",
      "Requirement already satisfied: h5py>=2.9.0 in /home/jonathan/PycharmProjects/IFT6759_Deep_learning/venv/lib/python3.9/site-packages (from tensorflow~=2.8.0->-r requirements.txt (line 31)) (3.6.0)\r\n",
      "Requirement already satisfied: beautifulsoup4 in /home/jonathan/PycharmProjects/IFT6759_Deep_learning/venv/lib/python3.9/site-packages (from gdown~=4.4.0->-r requirements.txt (line 32)) (4.11.1)\r\n",
      "Requirement already satisfied: filelock in /home/jonathan/PycharmProjects/IFT6759_Deep_learning/venv/lib/python3.9/site-packages (from gdown~=4.4.0->-r requirements.txt (line 32)) (3.6.0)\r\n",
      "Requirement already satisfied: gitdb<5,>=4.0.1 in /home/jonathan/PycharmProjects/IFT6759_Deep_learning/venv/lib/python3.9/site-packages (from GitPython>=1.0.0->wandb~=0.12.11->-r requirements.txt (line 20)) (4.0.9)\r\n",
      "Requirement already satisfied: cachetools<6.0,>=2.0.0 in /home/jonathan/PycharmProjects/IFT6759_Deep_learning/venv/lib/python3.9/site-packages (from google-auth<3,>=1.6.3->tensorboard->-r requirements.txt (line 1)) (5.0.0)\r\n",
      "Requirement already satisfied: pyasn1-modules>=0.2.1 in /home/jonathan/PycharmProjects/IFT6759_Deep_learning/venv/lib/python3.9/site-packages (from google-auth<3,>=1.6.3->tensorboard->-r requirements.txt (line 1)) (0.2.8)\r\n",
      "Requirement already satisfied: rsa<5,>=3.1.4 in /home/jonathan/PycharmProjects/IFT6759_Deep_learning/venv/lib/python3.9/site-packages (from google-auth<3,>=1.6.3->tensorboard->-r requirements.txt (line 1)) (4.8)\r\n",
      "Requirement already satisfied: requests-oauthlib>=0.7.0 in /home/jonathan/PycharmProjects/IFT6759_Deep_learning/venv/lib/python3.9/site-packages (from google-auth-oauthlib<0.5,>=0.4.1->tensorboard->-r requirements.txt (line 1)) (1.3.1)\r\n",
      "Requirement already satisfied: importlib-metadata>=4.4 in /home/jonathan/PycharmProjects/IFT6759_Deep_learning/venv/lib/python3.9/site-packages (from markdown>=2.6.8->tensorboard->-r requirements.txt (line 1)) (4.11.1)\r\n",
      "Requirement already satisfied: soupsieve>1.2 in /home/jonathan/PycharmProjects/IFT6759_Deep_learning/venv/lib/python3.9/site-packages (from beautifulsoup4->gdown~=4.4.0->-r requirements.txt (line 32)) (2.3.2.post1)\r\n",
      "Requirement already satisfied: PySocks!=1.5.7,>=1.5.6 in /home/jonathan/PycharmProjects/IFT6759_Deep_learning/venv/lib/python3.9/site-packages (from requests~=2.27.1->-r requirements.txt (line 24)) (1.7.1)\r\n",
      "Requirement already satisfied: smmap<6,>=3.0.1 in /home/jonathan/PycharmProjects/IFT6759_Deep_learning/venv/lib/python3.9/site-packages (from gitdb<5,>=4.0.1->GitPython>=1.0.0->wandb~=0.12.11->-r requirements.txt (line 20)) (5.0.0)\r\n",
      "Requirement already satisfied: zipp>=0.5 in /home/jonathan/PycharmProjects/IFT6759_Deep_learning/venv/lib/python3.9/site-packages (from importlib-metadata>=4.4->markdown>=2.6.8->tensorboard->-r requirements.txt (line 1)) (3.7.0)\r\n",
      "Requirement already satisfied: pyasn1<0.5.0,>=0.4.6 in /home/jonathan/PycharmProjects/IFT6759_Deep_learning/venv/lib/python3.9/site-packages (from pyasn1-modules>=0.2.1->google-auth<3,>=1.6.3->tensorboard->-r requirements.txt (line 1)) (0.4.8)\r\n",
      "Requirement already satisfied: oauthlib>=3.0.0 in /home/jonathan/PycharmProjects/IFT6759_Deep_learning/venv/lib/python3.9/site-packages (from requests-oauthlib>=0.7.0->google-auth-oauthlib<0.5,>=0.4.1->tensorboard->-r requirements.txt (line 1)) (3.2.0)\r\n",
      "Installing collected packages: argparse\r\n",
      "Successfully installed argparse-1.4.0\r\n",
      "Note: you may need to restart the kernel to use updated packages.\n"
     ]
    }
   ],
   "source": [
    "%pip install -r requirements.txt --find-links https://download.pytorch.org/whl/torch_stable.html"
   ]
  },
  {
   "cell_type": "code",
   "execution_count": 2,
   "metadata": {
    "pycharm": {
     "name": "#%%\n"
    }
   },
   "outputs": [
    {
     "name": "stderr",
     "output_type": "stream",
     "text": [
      "Downloading...\n",
      "From: https://drive.google.com/uc?export=download&id=1YXlG77XbMA0a4d12qcUSLa9sMp4rk6Nx\n",
      "To: /mnt/77A80709148517D5/IFT6759_Deep_learning/data/unseen_data_test.zip\n",
      "100%|██████████| 24.4M/24.4M [00:01<00:00, 15.6MB/s]\n"
     ]
    },
    {
     "name": "stdout",
     "output_type": "stream",
     "text": [
      "0 txt file have been deleted.\n",
      "Data is ready for training!\n"
     ]
    }
   ],
   "source": [
    "\n",
    "import gdown\n",
    "import shutil\n",
    "import os\n",
    "from data.delete_empty import DeleteEmpty\n",
    "delete=DeleteEmpty()\n",
    "\n",
    "if not os.path.exists(\"data/data_split2\") :\n",
    "    gdown.download(\"https://drive.google.com/uc?export=download&id=1tKAhkas5sCnIYurURylS63ZgBTdsrg_Q\",\"data/data_split2.zip\")\n",
    "    shutil.unpack_archive(\"data/data_split2.zip\", \"data\")\n",
    "\n",
    "if not os.path.exists(\"data/unseen_data_test\") :\n",
    "    gdown.download(\"https://drive.google.com/uc?export=download&id=1YXlG77XbMA0a4d12qcUSLa9sMp4rk6Nx\",\"data/unseen_data_test.zip\")\n",
    "    shutil.unpack_archive(\"data/unseen_data_test.zip\",\"data\")\n",
    "\n",
    "\n",
    "os.remove(\"data/unseen_data_test.zip\")\n",
    "delete.delete()\n",
    "#lets keep data_split2.zip just in case...\n",
    "print(\"Data is ready for training!\")"
   ]
  },
  {
   "cell_type": "markdown",
   "metadata": {
    "pycharm": {
     "name": "#%% md\n"
    }
   },
   "source": [
    "# This section is for training. If you already trained a model, you can skip ahead to the next section\n",
    "\n",
    "Training a model is easy! To see the available options :"
   ]
  },
  {
   "cell_type": "code",
   "execution_count": 3,
   "metadata": {
    "pycharm": {
     "name": "#%%\n"
    }
   },
   "outputs": [
    {
     "name": "stdout",
     "output_type": "stream",
     "text": [
      "usage: run_train.py [-h] --model [{alexnet,resnext50_32x4d,vgg19,yolo}]\r\n",
      "                    --dataset [{1,2,3,4}] [--img_size [IMG_SIZE]]\r\n",
      "                    [--wandb | --no-wandb]\r\n",
      "\r\n",
      "Launch training for a specific model\r\n",
      "\r\n",
      "optional arguments:\r\n",
      "  -h, --help            show this help message and exit\r\n",
      "  --model [{alexnet,resnext50_32x4d,vgg19,yolo}]\r\n",
      "                        Choice of the model\r\n",
      "  --dataset [{1,2,3,4}]\r\n",
      "                        Version of the dataset\r\n",
      "  --img_size [IMG_SIZE]\r\n",
      "                        width and length to resize the images to. Choose a\r\n",
      "                        value between 320 and 608.\r\n",
      "  --wandb, --no-wandb   do you wish (and did you setup) wandb? You will need\r\n",
      "                        to add the project name in the initialization of wandb\r\n",
      "                        in train.py (default: False)\r\n"
     ]
    }
   ],
   "source": [
    "! python run_train.py -h"
   ]
  },
  {
   "cell_type": "markdown",
   "metadata": {
    "pycharm": {
     "name": "#%% md\n"
    }
   },
   "source": [
    "Where the dataset corresponds to the different experiences as describe in our report.\n",
    "\n",
    "Let's try something simple!"
   ]
  },
  {
   "cell_type": "code",
   "execution_count": null,
   "metadata": {
    "pycharm": {
     "name": "#%%\n",
     "is_executing": true
    }
   },
   "outputs": [
    {
     "name": "stdout",
     "output_type": "stream",
     "text": [
      "sh: 1: source: not found\r\n",
      "\u001B[34m\u001B[1mtrain: \u001B[0mweights=yolov5m.pt, cfg=, data=/mnt/77A80709148517D5/IFT6759_Deep_learning/data/data_split2/data_split2.yaml, hyp=models/yolov5/data/hyps/hyp.scratch-low.yaml, epochs=1, batch_size=32, imgsz=320, rect=False, resume=False, nosave=True, noval=False, noautoanchor=False, evolve=None, bucket=, cache=None, image_weights=False, device=cuda:0, multi_scale=False, single_cls=False, optimizer=SGD, sync_bn=False, workers=4, project=models/yolov5/runs/train, name=exp, exist_ok=True, quad=False, cos_lr=False, label_smoothing=0.0, patience=5, freeze=[0], save_period=-1, local_rank=-1, entity=None, upload_dataset=False, bbox_interval=-1, artifact_alias=latest\r\n",
      "\u001B[34m\u001B[1mgithub: \u001B[0mskipping check (not a git repository), for updates see https://github.com/ultralytics/yolov5\r\n",
      "fatal: unsafe repository ('/mnt/77A80709148517D5/IFT6759_Deep_learning' is owned by someone else)\r\n",
      "To add an exception for this directory, call:\r\n",
      "\r\n",
      "\tgit config --global --add safe.directory /mnt/77A80709148517D5/IFT6759_Deep_learning\r\n",
      "YOLOv5 🚀 2022-4-26 torch 1.10.2+cu113 CUDA:0 (NVIDIA GeForce GTX 1660 Ti, 5945MiB)\r\n",
      "\r\n",
      "\u001B[34m\u001B[1mhyperparameters: \u001B[0mlr0=0.01, lrf=0.01, momentum=0.937, weight_decay=0.0005, warmup_epochs=3.0, warmup_momentum=0.8, warmup_bias_lr=0.1, box=0.05, cls=0.5, cls_pw=1.0, obj=1.0, obj_pw=1.0, iou_t=0.2, anchor_t=4.0, fl_gamma=0.0, hsv_h=0.015, hsv_s=0.7, hsv_v=0.4, degrees=0.0, translate=0.1, scale=0.5, shear=0.0, perspective=0.0, flipud=0.0, fliplr=0.5, mosaic=1.0, mixup=0.0, copy_paste=0.0\r\n",
      "\u001B[34m\u001B[1mWeights & Biases: \u001B[0mrun 'pip install wandb' to automatically track and visualize YOLOv5 🚀 runs (RECOMMENDED)\r\n",
      "\u001B[34m\u001B[1mTensorBoard: \u001B[0mStart with 'tensorboard --logdir models/yolov5/runs/train', view at http://localhost:6006/\r\n",
      "Overriding model.yaml nc=80 with nc=14\r\n",
      "\r\n",
      "                 from  n    params  module                                  arguments                     \r\n",
      "  0                -1  1      5280  models.common.Conv                      [3, 48, 6, 2, 2]              \r\n",
      "  1                -1  1     41664  models.common.Conv                      [48, 96, 3, 2]                \r\n",
      "  2                -1  2     65280  models.common.C3                        [96, 96, 2]                   \r\n",
      "  3                -1  1    166272  models.common.Conv                      [96, 192, 3, 2]               \r\n",
      "  4                -1  4    444672  models.common.C3                        [192, 192, 4]                 \r\n",
      "  5                -1  1    664320  models.common.Conv                      [192, 384, 3, 2]              \r\n",
      "  6                -1  6   2512896  models.common.C3                        [384, 384, 6]                 \r\n",
      "  7                -1  1   2655744  models.common.Conv                      [384, 768, 3, 2]              \r\n",
      "  8                -1  2   4134912  models.common.C3                        [768, 768, 2]                 \r\n",
      "  9                -1  1   1476864  models.common.SPPF                      [768, 768, 5]                 \r\n",
      " 10                -1  1    295680  models.common.Conv                      [768, 384, 1, 1]              \r\n",
      " 11                -1  1         0  torch.nn.modules.upsampling.Upsample    [None, 2, 'nearest']          \r\n",
      " 12           [-1, 6]  1         0  models.common.Concat                    [1]                           \r\n",
      " 13                -1  2   1182720  models.common.C3                        [768, 384, 2, False]          \r\n",
      " 14                -1  1     74112  models.common.Conv                      [384, 192, 1, 1]              \r\n",
      " 15                -1  1         0  torch.nn.modules.upsampling.Upsample    [None, 2, 'nearest']          \r\n",
      " 16           [-1, 4]  1         0  models.common.Concat                    [1]                           \r\n",
      " 17                -1  2    296448  models.common.C3                        [384, 192, 2, False]          \r\n",
      " 18                -1  1    332160  models.common.Conv                      [192, 192, 3, 2]              \r\n",
      " 19          [-1, 14]  1         0  models.common.Concat                    [1]                           \r\n",
      " 20                -1  2   1035264  models.common.C3                        [384, 384, 2, False]          \r\n",
      " 21                -1  1   1327872  models.common.Conv                      [384, 384, 3, 2]              \r\n",
      " 22          [-1, 10]  1         0  models.common.Concat                    [1]                           \r\n",
      " 23                -1  2   4134912  models.common.C3                        [768, 768, 2, False]          \r\n",
      " 24      [17, 20, 23]  1     76779  models.yolo.Detect                      [14, [[10, 13, 16, 30, 33, 23], [30, 61, 62, 45, 59, 119], [116, 90, 156, 198, 373, 326]], [192, 384, 768]]\r\n",
      "Model summary: 369 layers, 20923851 parameters, 20923851 gradients, 48.2 GFLOPs\r\n",
      "\r\n",
      "Transferred 475/481 items from yolov5m.pt\r\n",
      "Scaled weight_decay = 0.0005\r\n",
      "\u001B[34m\u001B[1moptimizer:\u001B[0m SGD with parameter groups 79 weight (no decay), 82 weight, 82 bias\r\n",
      "\u001B[34m\u001B[1mtrain: \u001B[0mScanning '/mnt/77A80709148517D5/IFT6759_Deep_learning/models/yolov5/../..\u001B[0m\r\n",
      "\u001B[34m\u001B[1mval: \u001B[0mScanning '/mnt/77A80709148517D5/IFT6759_Deep_learning/models/yolov5/../../d\u001B[0m\r\n",
      "Plotting labels to models/yolov5/runs/train/exp/labels.jpg... \r\n",
      "\r\n",
      "\u001B[34m\u001B[1mAutoAnchor: \u001B[0m5.65 anchors/target, 1.000 Best Possible Recall (BPR). Current anchors are a good fit to dataset ✅\r\n",
      "Image sizes 320 train, 320 val\r\n",
      "Using 4 dataloader workers\r\n",
      "Logging results to \u001B[1mmodels/yolov5/runs/train/exp\u001B[0m\r\n",
      "Starting training for 1 epochs...\r\n",
      "\r\n",
      "     Epoch   gpu_mem       box       obj       cls    labels  img_size\r\n",
      "       0/0     3.53G       nan       nan       nan        51       320:  80%|███"
     ]
    }
   ],
   "source": [
    "! python run_train.py --model yolo --dataset 2 --no-wandb --epoch 1"
   ]
  },
  {
   "cell_type": "markdown",
   "metadata": {
    "pycharm": {
     "name": "#%% md\n"
    }
   },
   "source": []
  },
  {
   "cell_type": "markdown",
   "metadata": {
    "pycharm": {
     "name": "#%% md\n"
    }
   },
   "source": [
    "# Now lets test our model!\n",
    "\n",
    "To see the usage of the detect function we do :"
   ]
  },
  {
   "cell_type": "code",
   "execution_count": null,
   "metadata": {
    "pycharm": {
     "name": "#%%\n"
    }
   },
   "outputs": [],
   "source": [
    "! python detect.py -h"
   ]
  },
  {
   "cell_type": "markdown",
   "metadata": {
    "pycharm": {
     "name": "#%% md\n"
    }
   },
   "source": []
  },
  {
   "cell_type": "markdown",
   "metadata": {
    "pycharm": {
     "name": "#%% md\n"
    }
   },
   "source": [
    "Now lets continue with our alexnet example (assuming you have done the training!)"
   ]
  },
  {
   "cell_type": "code",
   "execution_count": null,
   "metadata": {
    "pycharm": {
     "name": "#%%\n"
    }
   },
   "outputs": [],
   "source": [
    "! python detect.py --model alexnet --dataset 2 --test set unseen"
   ]
  },
  {
   "cell_type": "code",
   "execution_count": null,
   "metadata": {},
   "outputs": [],
   "source": []
  },
  {
   "cell_type": "raw",
   "source": [],
   "metadata": {
    "collapsed": false,
    "pycharm": {
     "name": "#%% raw\n"
    }
   }
  }
 ],
 "metadata": {
  "kernelspec": {
   "display_name": "Python 3 (ipykernel)",
   "language": "python",
   "name": "python3"
  },
  "language_info": {
   "codemirror_mode": {
    "name": "ipython",
    "version": 3
   },
   "file_extension": ".py",
   "mimetype": "text/x-python",
   "name": "python",
   "nbconvert_exporter": "python",
   "pygments_lexer": "ipython3",
   "version": "3.9.7"
  }
 },
 "nbformat": 4,
 "nbformat_minor": 1
}